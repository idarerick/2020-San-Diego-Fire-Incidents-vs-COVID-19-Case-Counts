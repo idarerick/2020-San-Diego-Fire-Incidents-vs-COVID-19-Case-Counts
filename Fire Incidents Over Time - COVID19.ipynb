{
 "cells": [
  {
   "cell_type": "code",
   "execution_count": 10,
   "metadata": {},
   "outputs": [],
   "source": [
    "import pandas as pd\n",
    "import numpy as np\n",
    "import datetime as dt\n",
    "import matplotlib.pyplot as plt\n",
    "import matplotlib.dates as mdates\n",
    "import plotly.express as px\n",
    "from matplotlib.dates import DateFormatter\n",
    "import seaborn as sns\n",
    "import statsmodels.api as sm\n",
    "\n",
    "%matplotlib notebook"
   ]
  },
  {
   "cell_type": "code",
   "execution_count": 11,
   "metadata": {
    "scrolled": true
   },
   "outputs": [
    {
     "data": {
      "text/plain": [
       "Date\n",
       "2020-03-06      2\n",
       "2020-03-07      2\n",
       "2020-03-08      2\n",
       "2020-03-09      2\n",
       "2020-03-10      2\n",
       "2020-03-11      2\n",
       "2020-03-12      2\n",
       "2020-03-13      2\n",
       "2020-03-14      8\n",
       "2020-03-15     39\n",
       "2020-03-16     55\n",
       "2020-03-17     60\n",
       "2020-03-18     80\n",
       "2020-03-19    105\n",
       "2020-03-20    131\n",
       "2020-03-21    159\n",
       "2020-03-22    205\n",
       "2020-03-23    230\n",
       "2020-03-24    242\n",
       "2020-03-25    297\n",
       "2020-03-26    341\n",
       "2020-03-27    417\n",
       "2020-03-28    519\n",
       "2020-03-29    603\n",
       "2020-03-30    734\n",
       "2020-03-31    849\n",
       "2020-04-01    966\n",
       "Name: Total, dtype: int64"
      ]
     },
     "execution_count": 11,
     "metadata": {},
     "output_type": "execute_result"
    }
   ],
   "source": [
    "casecounts = pd.read_csv(\"data/covid-sandiego-over-time.csv\")\n",
    "\n",
    "casecounts['Date'] = pd.DatetimeIndex(casecounts['Date']).date\n",
    "casecounts = casecounts.set_index(['Date'])\n",
    "casecounts = casecounts['Total']\n",
    "casecounts"
   ]
  },
  {
   "cell_type": "code",
   "execution_count": 12,
   "metadata": {
    "scrolled": true
   },
   "outputs": [
    {
     "data": {
      "text/html": [
       "<div>\n",
       "<style scoped>\n",
       "    .dataframe tbody tr th:only-of-type {\n",
       "        vertical-align: middle;\n",
       "    }\n",
       "\n",
       "    .dataframe tbody tr th {\n",
       "        vertical-align: top;\n",
       "    }\n",
       "\n",
       "    .dataframe thead th {\n",
       "        text-align: right;\n",
       "    }\n",
       "</style>\n",
       "<table border=\"1\" class=\"dataframe\">\n",
       "  <thead>\n",
       "    <tr style=\"text-align: right;\">\n",
       "      <th></th>\n",
       "      <th>agency_type</th>\n",
       "      <th>call_category</th>\n",
       "      <th>address_city</th>\n",
       "      <th>incident_number</th>\n",
       "      <th>jurisdiction</th>\n",
       "      <th>problem</th>\n",
       "      <th>date_response</th>\n",
       "      <th>address_state</th>\n",
       "      <th>address_zip</th>\n",
       "      <th>day_response</th>\n",
       "      <th>month_response</th>\n",
       "      <th>year_response</th>\n",
       "      <th>Date</th>\n",
       "    </tr>\n",
       "  </thead>\n",
       "  <tbody>\n",
       "    <tr>\n",
       "      <th>39853</th>\n",
       "      <td>Fire</td>\n",
       "      <td>EVENTS</td>\n",
       "      <td>SAN DIEGO</td>\n",
       "      <td>FS20000001</td>\n",
       "      <td>San Diego</td>\n",
       "      <td>EVENTS</td>\n",
       "      <td>2020-01-01 00:01:36</td>\n",
       "      <td>CA</td>\n",
       "      <td>92101.0</td>\n",
       "      <td>1</td>\n",
       "      <td>1</td>\n",
       "      <td>2020</td>\n",
       "      <td>2020-01-01</td>\n",
       "    </tr>\n",
       "    <tr>\n",
       "      <th>39852</th>\n",
       "      <td>Fire</td>\n",
       "      <td>Emergency Medical Response</td>\n",
       "      <td>SAN DIEGO</td>\n",
       "      <td>FS20000003</td>\n",
       "      <td>San Diego</td>\n",
       "      <td>Emergency Medical Response</td>\n",
       "      <td>2020-01-01 00:03:12</td>\n",
       "      <td>CA</td>\n",
       "      <td>92106.0</td>\n",
       "      <td>1</td>\n",
       "      <td>1</td>\n",
       "      <td>2020</td>\n",
       "      <td>2020-01-01</td>\n",
       "    </tr>\n",
       "    <tr>\n",
       "      <th>39851</th>\n",
       "      <td>Fire</td>\n",
       "      <td>FIRE</td>\n",
       "      <td>SAN DIEGO</td>\n",
       "      <td>FS20000002</td>\n",
       "      <td>San Diego</td>\n",
       "      <td>FIRE</td>\n",
       "      <td>2020-01-01 00:03:33</td>\n",
       "      <td>CA</td>\n",
       "      <td>92107.0</td>\n",
       "      <td>1</td>\n",
       "      <td>1</td>\n",
       "      <td>2020</td>\n",
       "      <td>2020-01-01</td>\n",
       "    </tr>\n",
       "    <tr>\n",
       "      <th>39850</th>\n",
       "      <td>Fire</td>\n",
       "      <td>Emergency Medical Response</td>\n",
       "      <td>SAN DIEGO</td>\n",
       "      <td>FS20000007</td>\n",
       "      <td>San Diego</td>\n",
       "      <td>Emergency Medical Response</td>\n",
       "      <td>2020-01-01 00:09:11</td>\n",
       "      <td>CA</td>\n",
       "      <td>92103.0</td>\n",
       "      <td>1</td>\n",
       "      <td>1</td>\n",
       "      <td>2020</td>\n",
       "      <td>2020-01-01</td>\n",
       "    </tr>\n",
       "    <tr>\n",
       "      <th>39849</th>\n",
       "      <td>Fire</td>\n",
       "      <td>Emergency Medical Response</td>\n",
       "      <td>SAN DIEGO</td>\n",
       "      <td>FS20000006</td>\n",
       "      <td>San Diego</td>\n",
       "      <td>Emergency Medical Response</td>\n",
       "      <td>2020-01-01 00:09:56</td>\n",
       "      <td>CA</td>\n",
       "      <td>92103.0</td>\n",
       "      <td>1</td>\n",
       "      <td>1</td>\n",
       "      <td>2020</td>\n",
       "      <td>2020-01-01</td>\n",
       "    </tr>\n",
       "  </tbody>\n",
       "</table>\n",
       "</div>"
      ],
      "text/plain": [
       "      agency_type               call_category address_city incident_number  \\\n",
       "39853        Fire                      EVENTS    SAN DIEGO      FS20000001   \n",
       "39852        Fire  Emergency Medical Response    SAN DIEGO      FS20000003   \n",
       "39851        Fire                        FIRE    SAN DIEGO      FS20000002   \n",
       "39850        Fire  Emergency Medical Response    SAN DIEGO      FS20000007   \n",
       "39849        Fire  Emergency Medical Response    SAN DIEGO      FS20000006   \n",
       "\n",
       "      jurisdiction                     problem        date_response  \\\n",
       "39853    San Diego                      EVENTS  2020-01-01 00:01:36   \n",
       "39852    San Diego  Emergency Medical Response  2020-01-01 00:03:12   \n",
       "39851    San Diego                        FIRE  2020-01-01 00:03:33   \n",
       "39850    San Diego  Emergency Medical Response  2020-01-01 00:09:11   \n",
       "39849    San Diego  Emergency Medical Response  2020-01-01 00:09:56   \n",
       "\n",
       "      address_state  address_zip  day_response  month_response  year_response  \\\n",
       "39853            CA      92101.0             1               1           2020   \n",
       "39852            CA      92106.0             1               1           2020   \n",
       "39851            CA      92107.0             1               1           2020   \n",
       "39850            CA      92103.0             1               1           2020   \n",
       "39849            CA      92103.0             1               1           2020   \n",
       "\n",
       "             Date  \n",
       "39853  2020-01-01  \n",
       "39852  2020-01-01  \n",
       "39851  2020-01-01  \n",
       "39850  2020-01-01  \n",
       "39849  2020-01-01  "
      ]
     },
     "execution_count": 12,
     "metadata": {},
     "output_type": "execute_result"
    }
   ],
   "source": [
    "emergencyresponse = pd.read_csv(\"data/fd_incidents_2020_datasd_v1.csv\")\n",
    "\n",
    "emergencyresponse['Date'] = pd.DatetimeIndex(emergencyresponse['date_response']).date\n",
    "\n",
    "emergencyresponse.sort_values(['date_response']).head()"
   ]
  },
  {
   "cell_type": "code",
   "execution_count": 13,
   "metadata": {
    "scrolled": true
   },
   "outputs": [
    {
     "data": {
      "text/html": [
       "<div>\n",
       "<style scoped>\n",
       "    .dataframe tbody tr th:only-of-type {\n",
       "        vertical-align: middle;\n",
       "    }\n",
       "\n",
       "    .dataframe tbody tr th {\n",
       "        vertical-align: top;\n",
       "    }\n",
       "\n",
       "    .dataframe thead th {\n",
       "        text-align: right;\n",
       "    }\n",
       "</style>\n",
       "<table border=\"1\" class=\"dataframe\">\n",
       "  <thead>\n",
       "    <tr style=\"text-align: right;\">\n",
       "      <th></th>\n",
       "      <th>Date</th>\n",
       "      <th>count_incidents</th>\n",
       "      <th>Total</th>\n",
       "    </tr>\n",
       "  </thead>\n",
       "  <tbody>\n",
       "    <tr>\n",
       "      <th>0</th>\n",
       "      <td>2020-01-01</td>\n",
       "      <td>500</td>\n",
       "      <td>NaN</td>\n",
       "    </tr>\n",
       "    <tr>\n",
       "      <th>1</th>\n",
       "      <td>2020-01-02</td>\n",
       "      <td>475</td>\n",
       "      <td>NaN</td>\n",
       "    </tr>\n",
       "    <tr>\n",
       "      <th>2</th>\n",
       "      <td>2020-01-03</td>\n",
       "      <td>496</td>\n",
       "      <td>NaN</td>\n",
       "    </tr>\n",
       "    <tr>\n",
       "      <th>3</th>\n",
       "      <td>2020-01-04</td>\n",
       "      <td>435</td>\n",
       "      <td>NaN</td>\n",
       "    </tr>\n",
       "    <tr>\n",
       "      <th>4</th>\n",
       "      <td>2020-01-05</td>\n",
       "      <td>436</td>\n",
       "      <td>NaN</td>\n",
       "    </tr>\n",
       "  </tbody>\n",
       "</table>\n",
       "</div>"
      ],
      "text/plain": [
       "         Date  count_incidents  Total\n",
       "0  2020-01-01              500    NaN\n",
       "1  2020-01-02              475    NaN\n",
       "2  2020-01-03              496    NaN\n",
       "3  2020-01-04              435    NaN\n",
       "4  2020-01-05              436    NaN"
      ]
     },
     "execution_count": 13,
     "metadata": {},
     "output_type": "execute_result"
    }
   ],
   "source": [
    "count_incidents = emergencyresponse.groupby(['Date'])['incident_number'].count().reset_index(name='count_incidents')\n",
    "count_incidents = count_incidents.set_index(['Date']).join(casecounts).reset_index()\n",
    "count_incidents = count_incidents.loc[:91]\n",
    "#count_incidents = count_trafcollisions.set_index(['Date'])\n",
    "count_incidents.head()"
   ]
  },
  {
   "cell_type": "code",
   "execution_count": 14,
   "metadata": {},
   "outputs": [],
   "source": [
    "plt.style.use('seaborn-colorblind')"
   ]
  },
  {
   "cell_type": "code",
   "execution_count": 15,
   "metadata": {},
   "outputs": [
    {
     "data": {
      "application/javascript": [
       "/* Put everything inside the global mpl namespace */\n",
       "window.mpl = {};\n",
       "\n",
       "\n",
       "mpl.get_websocket_type = function() {\n",
       "    if (typeof(WebSocket) !== 'undefined') {\n",
       "        return WebSocket;\n",
       "    } else if (typeof(MozWebSocket) !== 'undefined') {\n",
       "        return MozWebSocket;\n",
       "    } else {\n",
       "        alert('Your browser does not have WebSocket support.' +\n",
       "              'Please try Chrome, Safari or Firefox ≥ 6. ' +\n",
       "              'Firefox 4 and 5 are also supported but you ' +\n",
       "              'have to enable WebSockets in about:config.');\n",
       "    };\n",
       "}\n",
       "\n",
       "mpl.figure = function(figure_id, websocket, ondownload, parent_element) {\n",
       "    this.id = figure_id;\n",
       "\n",
       "    this.ws = websocket;\n",
       "\n",
       "    this.supports_binary = (this.ws.binaryType != undefined);\n",
       "\n",
       "    if (!this.supports_binary) {\n",
       "        var warnings = document.getElementById(\"mpl-warnings\");\n",
       "        if (warnings) {\n",
       "            warnings.style.display = 'block';\n",
       "            warnings.textContent = (\n",
       "                \"This browser does not support binary websocket messages. \" +\n",
       "                    \"Performance may be slow.\");\n",
       "        }\n",
       "    }\n",
       "\n",
       "    this.imageObj = new Image();\n",
       "\n",
       "    this.context = undefined;\n",
       "    this.message = undefined;\n",
       "    this.canvas = undefined;\n",
       "    this.rubberband_canvas = undefined;\n",
       "    this.rubberband_context = undefined;\n",
       "    this.format_dropdown = undefined;\n",
       "\n",
       "    this.image_mode = 'full';\n",
       "\n",
       "    this.root = $('<div/>');\n",
       "    this._root_extra_style(this.root)\n",
       "    this.root.attr('style', 'display: inline-block');\n",
       "\n",
       "    $(parent_element).append(this.root);\n",
       "\n",
       "    this._init_header(this);\n",
       "    this._init_canvas(this);\n",
       "    this._init_toolbar(this);\n",
       "\n",
       "    var fig = this;\n",
       "\n",
       "    this.waiting = false;\n",
       "\n",
       "    this.ws.onopen =  function () {\n",
       "            fig.send_message(\"supports_binary\", {value: fig.supports_binary});\n",
       "            fig.send_message(\"send_image_mode\", {});\n",
       "            if (mpl.ratio != 1) {\n",
       "                fig.send_message(\"set_dpi_ratio\", {'dpi_ratio': mpl.ratio});\n",
       "            }\n",
       "            fig.send_message(\"refresh\", {});\n",
       "        }\n",
       "\n",
       "    this.imageObj.onload = function() {\n",
       "            if (fig.image_mode == 'full') {\n",
       "                // Full images could contain transparency (where diff images\n",
       "                // almost always do), so we need to clear the canvas so that\n",
       "                // there is no ghosting.\n",
       "                fig.context.clearRect(0, 0, fig.canvas.width, fig.canvas.height);\n",
       "            }\n",
       "            fig.context.drawImage(fig.imageObj, 0, 0);\n",
       "        };\n",
       "\n",
       "    this.imageObj.onunload = function() {\n",
       "        fig.ws.close();\n",
       "    }\n",
       "\n",
       "    this.ws.onmessage = this._make_on_message_function(this);\n",
       "\n",
       "    this.ondownload = ondownload;\n",
       "}\n",
       "\n",
       "mpl.figure.prototype._init_header = function() {\n",
       "    var titlebar = $(\n",
       "        '<div class=\"ui-dialog-titlebar ui-widget-header ui-corner-all ' +\n",
       "        'ui-helper-clearfix\"/>');\n",
       "    var titletext = $(\n",
       "        '<div class=\"ui-dialog-title\" style=\"width: 100%; ' +\n",
       "        'text-align: center; padding: 3px;\"/>');\n",
       "    titlebar.append(titletext)\n",
       "    this.root.append(titlebar);\n",
       "    this.header = titletext[0];\n",
       "}\n",
       "\n",
       "\n",
       "\n",
       "mpl.figure.prototype._canvas_extra_style = function(canvas_div) {\n",
       "\n",
       "}\n",
       "\n",
       "\n",
       "mpl.figure.prototype._root_extra_style = function(canvas_div) {\n",
       "\n",
       "}\n",
       "\n",
       "mpl.figure.prototype._init_canvas = function() {\n",
       "    var fig = this;\n",
       "\n",
       "    var canvas_div = $('<div/>');\n",
       "\n",
       "    canvas_div.attr('style', 'position: relative; clear: both; outline: 0');\n",
       "\n",
       "    function canvas_keyboard_event(event) {\n",
       "        return fig.key_event(event, event['data']);\n",
       "    }\n",
       "\n",
       "    canvas_div.keydown('key_press', canvas_keyboard_event);\n",
       "    canvas_div.keyup('key_release', canvas_keyboard_event);\n",
       "    this.canvas_div = canvas_div\n",
       "    this._canvas_extra_style(canvas_div)\n",
       "    this.root.append(canvas_div);\n",
       "\n",
       "    var canvas = $('<canvas/>');\n",
       "    canvas.addClass('mpl-canvas');\n",
       "    canvas.attr('style', \"left: 0; top: 0; z-index: 0; outline: 0\")\n",
       "\n",
       "    this.canvas = canvas[0];\n",
       "    this.context = canvas[0].getContext(\"2d\");\n",
       "\n",
       "    var backingStore = this.context.backingStorePixelRatio ||\n",
       "\tthis.context.webkitBackingStorePixelRatio ||\n",
       "\tthis.context.mozBackingStorePixelRatio ||\n",
       "\tthis.context.msBackingStorePixelRatio ||\n",
       "\tthis.context.oBackingStorePixelRatio ||\n",
       "\tthis.context.backingStorePixelRatio || 1;\n",
       "\n",
       "    mpl.ratio = (window.devicePixelRatio || 1) / backingStore;\n",
       "\n",
       "    var rubberband = $('<canvas/>');\n",
       "    rubberband.attr('style', \"position: absolute; left: 0; top: 0; z-index: 1;\")\n",
       "\n",
       "    var pass_mouse_events = true;\n",
       "\n",
       "    canvas_div.resizable({\n",
       "        start: function(event, ui) {\n",
       "            pass_mouse_events = false;\n",
       "        },\n",
       "        resize: function(event, ui) {\n",
       "            fig.request_resize(ui.size.width, ui.size.height);\n",
       "        },\n",
       "        stop: function(event, ui) {\n",
       "            pass_mouse_events = true;\n",
       "            fig.request_resize(ui.size.width, ui.size.height);\n",
       "        },\n",
       "    });\n",
       "\n",
       "    function mouse_event_fn(event) {\n",
       "        if (pass_mouse_events)\n",
       "            return fig.mouse_event(event, event['data']);\n",
       "    }\n",
       "\n",
       "    rubberband.mousedown('button_press', mouse_event_fn);\n",
       "    rubberband.mouseup('button_release', mouse_event_fn);\n",
       "    // Throttle sequential mouse events to 1 every 20ms.\n",
       "    rubberband.mousemove('motion_notify', mouse_event_fn);\n",
       "\n",
       "    rubberband.mouseenter('figure_enter', mouse_event_fn);\n",
       "    rubberband.mouseleave('figure_leave', mouse_event_fn);\n",
       "\n",
       "    canvas_div.on(\"wheel\", function (event) {\n",
       "        event = event.originalEvent;\n",
       "        event['data'] = 'scroll'\n",
       "        if (event.deltaY < 0) {\n",
       "            event.step = 1;\n",
       "        } else {\n",
       "            event.step = -1;\n",
       "        }\n",
       "        mouse_event_fn(event);\n",
       "    });\n",
       "\n",
       "    canvas_div.append(canvas);\n",
       "    canvas_div.append(rubberband);\n",
       "\n",
       "    this.rubberband = rubberband;\n",
       "    this.rubberband_canvas = rubberband[0];\n",
       "    this.rubberband_context = rubberband[0].getContext(\"2d\");\n",
       "    this.rubberband_context.strokeStyle = \"#000000\";\n",
       "\n",
       "    this._resize_canvas = function(width, height) {\n",
       "        // Keep the size of the canvas, canvas container, and rubber band\n",
       "        // canvas in synch.\n",
       "        canvas_div.css('width', width)\n",
       "        canvas_div.css('height', height)\n",
       "\n",
       "        canvas.attr('width', width * mpl.ratio);\n",
       "        canvas.attr('height', height * mpl.ratio);\n",
       "        canvas.attr('style', 'width: ' + width + 'px; height: ' + height + 'px;');\n",
       "\n",
       "        rubberband.attr('width', width);\n",
       "        rubberband.attr('height', height);\n",
       "    }\n",
       "\n",
       "    // Set the figure to an initial 600x600px, this will subsequently be updated\n",
       "    // upon first draw.\n",
       "    this._resize_canvas(600, 600);\n",
       "\n",
       "    // Disable right mouse context menu.\n",
       "    $(this.rubberband_canvas).bind(\"contextmenu\",function(e){\n",
       "        return false;\n",
       "    });\n",
       "\n",
       "    function set_focus () {\n",
       "        canvas.focus();\n",
       "        canvas_div.focus();\n",
       "    }\n",
       "\n",
       "    window.setTimeout(set_focus, 100);\n",
       "}\n",
       "\n",
       "mpl.figure.prototype._init_toolbar = function() {\n",
       "    var fig = this;\n",
       "\n",
       "    var nav_element = $('<div/>')\n",
       "    nav_element.attr('style', 'width: 100%');\n",
       "    this.root.append(nav_element);\n",
       "\n",
       "    // Define a callback function for later on.\n",
       "    function toolbar_event(event) {\n",
       "        return fig.toolbar_button_onclick(event['data']);\n",
       "    }\n",
       "    function toolbar_mouse_event(event) {\n",
       "        return fig.toolbar_button_onmouseover(event['data']);\n",
       "    }\n",
       "\n",
       "    for(var toolbar_ind in mpl.toolbar_items) {\n",
       "        var name = mpl.toolbar_items[toolbar_ind][0];\n",
       "        var tooltip = mpl.toolbar_items[toolbar_ind][1];\n",
       "        var image = mpl.toolbar_items[toolbar_ind][2];\n",
       "        var method_name = mpl.toolbar_items[toolbar_ind][3];\n",
       "\n",
       "        if (!name) {\n",
       "            // put a spacer in here.\n",
       "            continue;\n",
       "        }\n",
       "        var button = $('<button/>');\n",
       "        button.addClass('ui-button ui-widget ui-state-default ui-corner-all ' +\n",
       "                        'ui-button-icon-only');\n",
       "        button.attr('role', 'button');\n",
       "        button.attr('aria-disabled', 'false');\n",
       "        button.click(method_name, toolbar_event);\n",
       "        button.mouseover(tooltip, toolbar_mouse_event);\n",
       "\n",
       "        var icon_img = $('<span/>');\n",
       "        icon_img.addClass('ui-button-icon-primary ui-icon');\n",
       "        icon_img.addClass(image);\n",
       "        icon_img.addClass('ui-corner-all');\n",
       "\n",
       "        var tooltip_span = $('<span/>');\n",
       "        tooltip_span.addClass('ui-button-text');\n",
       "        tooltip_span.html(tooltip);\n",
       "\n",
       "        button.append(icon_img);\n",
       "        button.append(tooltip_span);\n",
       "\n",
       "        nav_element.append(button);\n",
       "    }\n",
       "\n",
       "    var fmt_picker_span = $('<span/>');\n",
       "\n",
       "    var fmt_picker = $('<select/>');\n",
       "    fmt_picker.addClass('mpl-toolbar-option ui-widget ui-widget-content');\n",
       "    fmt_picker_span.append(fmt_picker);\n",
       "    nav_element.append(fmt_picker_span);\n",
       "    this.format_dropdown = fmt_picker[0];\n",
       "\n",
       "    for (var ind in mpl.extensions) {\n",
       "        var fmt = mpl.extensions[ind];\n",
       "        var option = $(\n",
       "            '<option/>', {selected: fmt === mpl.default_extension}).html(fmt);\n",
       "        fmt_picker.append(option)\n",
       "    }\n",
       "\n",
       "    // Add hover states to the ui-buttons\n",
       "    $( \".ui-button\" ).hover(\n",
       "        function() { $(this).addClass(\"ui-state-hover\");},\n",
       "        function() { $(this).removeClass(\"ui-state-hover\");}\n",
       "    );\n",
       "\n",
       "    var status_bar = $('<span class=\"mpl-message\"/>');\n",
       "    nav_element.append(status_bar);\n",
       "    this.message = status_bar[0];\n",
       "}\n",
       "\n",
       "mpl.figure.prototype.request_resize = function(x_pixels, y_pixels) {\n",
       "    // Request matplotlib to resize the figure. Matplotlib will then trigger a resize in the client,\n",
       "    // which will in turn request a refresh of the image.\n",
       "    this.send_message('resize', {'width': x_pixels, 'height': y_pixels});\n",
       "}\n",
       "\n",
       "mpl.figure.prototype.send_message = function(type, properties) {\n",
       "    properties['type'] = type;\n",
       "    properties['figure_id'] = this.id;\n",
       "    this.ws.send(JSON.stringify(properties));\n",
       "}\n",
       "\n",
       "mpl.figure.prototype.send_draw_message = function() {\n",
       "    if (!this.waiting) {\n",
       "        this.waiting = true;\n",
       "        this.ws.send(JSON.stringify({type: \"draw\", figure_id: this.id}));\n",
       "    }\n",
       "}\n",
       "\n",
       "\n",
       "mpl.figure.prototype.handle_save = function(fig, msg) {\n",
       "    var format_dropdown = fig.format_dropdown;\n",
       "    var format = format_dropdown.options[format_dropdown.selectedIndex].value;\n",
       "    fig.ondownload(fig, format);\n",
       "}\n",
       "\n",
       "\n",
       "mpl.figure.prototype.handle_resize = function(fig, msg) {\n",
       "    var size = msg['size'];\n",
       "    if (size[0] != fig.canvas.width || size[1] != fig.canvas.height) {\n",
       "        fig._resize_canvas(size[0], size[1]);\n",
       "        fig.send_message(\"refresh\", {});\n",
       "    };\n",
       "}\n",
       "\n",
       "mpl.figure.prototype.handle_rubberband = function(fig, msg) {\n",
       "    var x0 = msg['x0'] / mpl.ratio;\n",
       "    var y0 = (fig.canvas.height - msg['y0']) / mpl.ratio;\n",
       "    var x1 = msg['x1'] / mpl.ratio;\n",
       "    var y1 = (fig.canvas.height - msg['y1']) / mpl.ratio;\n",
       "    x0 = Math.floor(x0) + 0.5;\n",
       "    y0 = Math.floor(y0) + 0.5;\n",
       "    x1 = Math.floor(x1) + 0.5;\n",
       "    y1 = Math.floor(y1) + 0.5;\n",
       "    var min_x = Math.min(x0, x1);\n",
       "    var min_y = Math.min(y0, y1);\n",
       "    var width = Math.abs(x1 - x0);\n",
       "    var height = Math.abs(y1 - y0);\n",
       "\n",
       "    fig.rubberband_context.clearRect(\n",
       "        0, 0, fig.canvas.width, fig.canvas.height);\n",
       "\n",
       "    fig.rubberband_context.strokeRect(min_x, min_y, width, height);\n",
       "}\n",
       "\n",
       "mpl.figure.prototype.handle_figure_label = function(fig, msg) {\n",
       "    // Updates the figure title.\n",
       "    fig.header.textContent = msg['label'];\n",
       "}\n",
       "\n",
       "mpl.figure.prototype.handle_cursor = function(fig, msg) {\n",
       "    var cursor = msg['cursor'];\n",
       "    switch(cursor)\n",
       "    {\n",
       "    case 0:\n",
       "        cursor = 'pointer';\n",
       "        break;\n",
       "    case 1:\n",
       "        cursor = 'default';\n",
       "        break;\n",
       "    case 2:\n",
       "        cursor = 'crosshair';\n",
       "        break;\n",
       "    case 3:\n",
       "        cursor = 'move';\n",
       "        break;\n",
       "    }\n",
       "    fig.rubberband_canvas.style.cursor = cursor;\n",
       "}\n",
       "\n",
       "mpl.figure.prototype.handle_message = function(fig, msg) {\n",
       "    fig.message.textContent = msg['message'];\n",
       "}\n",
       "\n",
       "mpl.figure.prototype.handle_draw = function(fig, msg) {\n",
       "    // Request the server to send over a new figure.\n",
       "    fig.send_draw_message();\n",
       "}\n",
       "\n",
       "mpl.figure.prototype.handle_image_mode = function(fig, msg) {\n",
       "    fig.image_mode = msg['mode'];\n",
       "}\n",
       "\n",
       "mpl.figure.prototype.updated_canvas_event = function() {\n",
       "    // Called whenever the canvas gets updated.\n",
       "    this.send_message(\"ack\", {});\n",
       "}\n",
       "\n",
       "// A function to construct a web socket function for onmessage handling.\n",
       "// Called in the figure constructor.\n",
       "mpl.figure.prototype._make_on_message_function = function(fig) {\n",
       "    return function socket_on_message(evt) {\n",
       "        if (evt.data instanceof Blob) {\n",
       "            /* FIXME: We get \"Resource interpreted as Image but\n",
       "             * transferred with MIME type text/plain:\" errors on\n",
       "             * Chrome.  But how to set the MIME type?  It doesn't seem\n",
       "             * to be part of the websocket stream */\n",
       "            evt.data.type = \"image/png\";\n",
       "\n",
       "            /* Free the memory for the previous frames */\n",
       "            if (fig.imageObj.src) {\n",
       "                (window.URL || window.webkitURL).revokeObjectURL(\n",
       "                    fig.imageObj.src);\n",
       "            }\n",
       "\n",
       "            fig.imageObj.src = (window.URL || window.webkitURL).createObjectURL(\n",
       "                evt.data);\n",
       "            fig.updated_canvas_event();\n",
       "            fig.waiting = false;\n",
       "            return;\n",
       "        }\n",
       "        else if (typeof evt.data === 'string' && evt.data.slice(0, 21) == \"data:image/png;base64\") {\n",
       "            fig.imageObj.src = evt.data;\n",
       "            fig.updated_canvas_event();\n",
       "            fig.waiting = false;\n",
       "            return;\n",
       "        }\n",
       "\n",
       "        var msg = JSON.parse(evt.data);\n",
       "        var msg_type = msg['type'];\n",
       "\n",
       "        // Call the  \"handle_{type}\" callback, which takes\n",
       "        // the figure and JSON message as its only arguments.\n",
       "        try {\n",
       "            var callback = fig[\"handle_\" + msg_type];\n",
       "        } catch (e) {\n",
       "            console.log(\"No handler for the '\" + msg_type + \"' message type: \", msg);\n",
       "            return;\n",
       "        }\n",
       "\n",
       "        if (callback) {\n",
       "            try {\n",
       "                // console.log(\"Handling '\" + msg_type + \"' message: \", msg);\n",
       "                callback(fig, msg);\n",
       "            } catch (e) {\n",
       "                console.log(\"Exception inside the 'handler_\" + msg_type + \"' callback:\", e, e.stack, msg);\n",
       "            }\n",
       "        }\n",
       "    };\n",
       "}\n",
       "\n",
       "// from http://stackoverflow.com/questions/1114465/getting-mouse-location-in-canvas\n",
       "mpl.findpos = function(e) {\n",
       "    //this section is from http://www.quirksmode.org/js/events_properties.html\n",
       "    var targ;\n",
       "    if (!e)\n",
       "        e = window.event;\n",
       "    if (e.target)\n",
       "        targ = e.target;\n",
       "    else if (e.srcElement)\n",
       "        targ = e.srcElement;\n",
       "    if (targ.nodeType == 3) // defeat Safari bug\n",
       "        targ = targ.parentNode;\n",
       "\n",
       "    // jQuery normalizes the pageX and pageY\n",
       "    // pageX,Y are the mouse positions relative to the document\n",
       "    // offset() returns the position of the element relative to the document\n",
       "    var x = e.pageX - $(targ).offset().left;\n",
       "    var y = e.pageY - $(targ).offset().top;\n",
       "\n",
       "    return {\"x\": x, \"y\": y};\n",
       "};\n",
       "\n",
       "/*\n",
       " * return a copy of an object with only non-object keys\n",
       " * we need this to avoid circular references\n",
       " * http://stackoverflow.com/a/24161582/3208463\n",
       " */\n",
       "function simpleKeys (original) {\n",
       "  return Object.keys(original).reduce(function (obj, key) {\n",
       "    if (typeof original[key] !== 'object')\n",
       "        obj[key] = original[key]\n",
       "    return obj;\n",
       "  }, {});\n",
       "}\n",
       "\n",
       "mpl.figure.prototype.mouse_event = function(event, name) {\n",
       "    var canvas_pos = mpl.findpos(event)\n",
       "\n",
       "    if (name === 'button_press')\n",
       "    {\n",
       "        this.canvas.focus();\n",
       "        this.canvas_div.focus();\n",
       "    }\n",
       "\n",
       "    var x = canvas_pos.x * mpl.ratio;\n",
       "    var y = canvas_pos.y * mpl.ratio;\n",
       "\n",
       "    this.send_message(name, {x: x, y: y, button: event.button,\n",
       "                             step: event.step,\n",
       "                             guiEvent: simpleKeys(event)});\n",
       "\n",
       "    /* This prevents the web browser from automatically changing to\n",
       "     * the text insertion cursor when the button is pressed.  We want\n",
       "     * to control all of the cursor setting manually through the\n",
       "     * 'cursor' event from matplotlib */\n",
       "    event.preventDefault();\n",
       "    return false;\n",
       "}\n",
       "\n",
       "mpl.figure.prototype._key_event_extra = function(event, name) {\n",
       "    // Handle any extra behaviour associated with a key event\n",
       "}\n",
       "\n",
       "mpl.figure.prototype.key_event = function(event, name) {\n",
       "\n",
       "    // Prevent repeat events\n",
       "    if (name == 'key_press')\n",
       "    {\n",
       "        if (event.which === this._key)\n",
       "            return;\n",
       "        else\n",
       "            this._key = event.which;\n",
       "    }\n",
       "    if (name == 'key_release')\n",
       "        this._key = null;\n",
       "\n",
       "    var value = '';\n",
       "    if (event.ctrlKey && event.which != 17)\n",
       "        value += \"ctrl+\";\n",
       "    if (event.altKey && event.which != 18)\n",
       "        value += \"alt+\";\n",
       "    if (event.shiftKey && event.which != 16)\n",
       "        value += \"shift+\";\n",
       "\n",
       "    value += 'k';\n",
       "    value += event.which.toString();\n",
       "\n",
       "    this._key_event_extra(event, name);\n",
       "\n",
       "    this.send_message(name, {key: value,\n",
       "                             guiEvent: simpleKeys(event)});\n",
       "    return false;\n",
       "}\n",
       "\n",
       "mpl.figure.prototype.toolbar_button_onclick = function(name) {\n",
       "    if (name == 'download') {\n",
       "        this.handle_save(this, null);\n",
       "    } else {\n",
       "        this.send_message(\"toolbar_button\", {name: name});\n",
       "    }\n",
       "};\n",
       "\n",
       "mpl.figure.prototype.toolbar_button_onmouseover = function(tooltip) {\n",
       "    this.message.textContent = tooltip;\n",
       "};\n",
       "mpl.toolbar_items = [[\"Home\", \"Reset original view\", \"fa fa-home icon-home\", \"home\"], [\"Back\", \"Back to  previous view\", \"fa fa-arrow-left icon-arrow-left\", \"back\"], [\"Forward\", \"Forward to next view\", \"fa fa-arrow-right icon-arrow-right\", \"forward\"], [\"\", \"\", \"\", \"\"], [\"Pan\", \"Pan axes with left mouse, zoom with right\", \"fa fa-arrows icon-move\", \"pan\"], [\"Zoom\", \"Zoom to rectangle\", \"fa fa-square-o icon-check-empty\", \"zoom\"], [\"\", \"\", \"\", \"\"], [\"Download\", \"Download plot\", \"fa fa-floppy-o icon-save\", \"download\"]];\n",
       "\n",
       "mpl.extensions = [\"eps\", \"jpeg\", \"pdf\", \"png\", \"ps\", \"raw\", \"svg\", \"tif\"];\n",
       "\n",
       "mpl.default_extension = \"png\";var comm_websocket_adapter = function(comm) {\n",
       "    // Create a \"websocket\"-like object which calls the given IPython comm\n",
       "    // object with the appropriate methods. Currently this is a non binary\n",
       "    // socket, so there is still some room for performance tuning.\n",
       "    var ws = {};\n",
       "\n",
       "    ws.close = function() {\n",
       "        comm.close()\n",
       "    };\n",
       "    ws.send = function(m) {\n",
       "        //console.log('sending', m);\n",
       "        comm.send(m);\n",
       "    };\n",
       "    // Register the callback with on_msg.\n",
       "    comm.on_msg(function(msg) {\n",
       "        //console.log('receiving', msg['content']['data'], msg);\n",
       "        // Pass the mpl event to the overridden (by mpl) onmessage function.\n",
       "        ws.onmessage(msg['content']['data'])\n",
       "    });\n",
       "    return ws;\n",
       "}\n",
       "\n",
       "mpl.mpl_figure_comm = function(comm, msg) {\n",
       "    // This is the function which gets called when the mpl process\n",
       "    // starts-up an IPython Comm through the \"matplotlib\" channel.\n",
       "\n",
       "    var id = msg.content.data.id;\n",
       "    // Get hold of the div created by the display call when the Comm\n",
       "    // socket was opened in Python.\n",
       "    var element = $(\"#\" + id);\n",
       "    var ws_proxy = comm_websocket_adapter(comm)\n",
       "\n",
       "    function ondownload(figure, format) {\n",
       "        window.open(figure.imageObj.src);\n",
       "    }\n",
       "\n",
       "    var fig = new mpl.figure(id, ws_proxy,\n",
       "                           ondownload,\n",
       "                           element.get(0));\n",
       "\n",
       "    // Call onopen now - mpl needs it, as it is assuming we've passed it a real\n",
       "    // web socket which is closed, not our websocket->open comm proxy.\n",
       "    ws_proxy.onopen();\n",
       "\n",
       "    fig.parent_element = element.get(0);\n",
       "    fig.cell_info = mpl.find_output_cell(\"<div id='\" + id + \"'></div>\");\n",
       "    if (!fig.cell_info) {\n",
       "        console.error(\"Failed to find cell for figure\", id, fig);\n",
       "        return;\n",
       "    }\n",
       "\n",
       "    var output_index = fig.cell_info[2]\n",
       "    var cell = fig.cell_info[0];\n",
       "\n",
       "};\n",
       "\n",
       "mpl.figure.prototype.handle_close = function(fig, msg) {\n",
       "    var width = fig.canvas.width/mpl.ratio\n",
       "    fig.root.unbind('remove')\n",
       "\n",
       "    // Update the output cell to use the data from the current canvas.\n",
       "    fig.push_to_output();\n",
       "    var dataURL = fig.canvas.toDataURL();\n",
       "    // Re-enable the keyboard manager in IPython - without this line, in FF,\n",
       "    // the notebook keyboard shortcuts fail.\n",
       "    IPython.keyboard_manager.enable()\n",
       "    $(fig.parent_element).html('<img src=\"' + dataURL + '\" width=\"' + width + '\">');\n",
       "    fig.close_ws(fig, msg);\n",
       "}\n",
       "\n",
       "mpl.figure.prototype.close_ws = function(fig, msg){\n",
       "    fig.send_message('closing', msg);\n",
       "    // fig.ws.close()\n",
       "}\n",
       "\n",
       "mpl.figure.prototype.push_to_output = function(remove_interactive) {\n",
       "    // Turn the data on the canvas into data in the output cell.\n",
       "    var width = this.canvas.width/mpl.ratio\n",
       "    var dataURL = this.canvas.toDataURL();\n",
       "    this.cell_info[1]['text/html'] = '<img src=\"' + dataURL + '\" width=\"' + width + '\">';\n",
       "}\n",
       "\n",
       "mpl.figure.prototype.updated_canvas_event = function() {\n",
       "    // Tell IPython that the notebook contents must change.\n",
       "    IPython.notebook.set_dirty(true);\n",
       "    this.send_message(\"ack\", {});\n",
       "    var fig = this;\n",
       "    // Wait a second, then push the new image to the DOM so\n",
       "    // that it is saved nicely (might be nice to debounce this).\n",
       "    setTimeout(function () { fig.push_to_output() }, 1000);\n",
       "}\n",
       "\n",
       "mpl.figure.prototype._init_toolbar = function() {\n",
       "    var fig = this;\n",
       "\n",
       "    var nav_element = $('<div/>')\n",
       "    nav_element.attr('style', 'width: 100%');\n",
       "    this.root.append(nav_element);\n",
       "\n",
       "    // Define a callback function for later on.\n",
       "    function toolbar_event(event) {\n",
       "        return fig.toolbar_button_onclick(event['data']);\n",
       "    }\n",
       "    function toolbar_mouse_event(event) {\n",
       "        return fig.toolbar_button_onmouseover(event['data']);\n",
       "    }\n",
       "\n",
       "    for(var toolbar_ind in mpl.toolbar_items){\n",
       "        var name = mpl.toolbar_items[toolbar_ind][0];\n",
       "        var tooltip = mpl.toolbar_items[toolbar_ind][1];\n",
       "        var image = mpl.toolbar_items[toolbar_ind][2];\n",
       "        var method_name = mpl.toolbar_items[toolbar_ind][3];\n",
       "\n",
       "        if (!name) { continue; };\n",
       "\n",
       "        var button = $('<button class=\"btn btn-default\" href=\"#\" title=\"' + name + '\"><i class=\"fa ' + image + ' fa-lg\"></i></button>');\n",
       "        button.click(method_name, toolbar_event);\n",
       "        button.mouseover(tooltip, toolbar_mouse_event);\n",
       "        nav_element.append(button);\n",
       "    }\n",
       "\n",
       "    // Add the status bar.\n",
       "    var status_bar = $('<span class=\"mpl-message\" style=\"text-align:right; float: right;\"/>');\n",
       "    nav_element.append(status_bar);\n",
       "    this.message = status_bar[0];\n",
       "\n",
       "    // Add the close button to the window.\n",
       "    var buttongrp = $('<div class=\"btn-group inline pull-right\"></div>');\n",
       "    var button = $('<button class=\"btn btn-mini btn-primary\" href=\"#\" title=\"Stop Interaction\"><i class=\"fa fa-power-off icon-remove icon-large\"></i></button>');\n",
       "    button.click(function (evt) { fig.handle_close(fig, {}); } );\n",
       "    button.mouseover('Stop Interaction', toolbar_mouse_event);\n",
       "    buttongrp.append(button);\n",
       "    var titlebar = this.root.find($('.ui-dialog-titlebar'));\n",
       "    titlebar.prepend(buttongrp);\n",
       "}\n",
       "\n",
       "mpl.figure.prototype._root_extra_style = function(el){\n",
       "    var fig = this\n",
       "    el.on(\"remove\", function(){\n",
       "\tfig.close_ws(fig, {});\n",
       "    });\n",
       "}\n",
       "\n",
       "mpl.figure.prototype._canvas_extra_style = function(el){\n",
       "    // this is important to make the div 'focusable\n",
       "    el.attr('tabindex', 0)\n",
       "    // reach out to IPython and tell the keyboard manager to turn it's self\n",
       "    // off when our div gets focus\n",
       "\n",
       "    // location in version 3\n",
       "    if (IPython.notebook.keyboard_manager) {\n",
       "        IPython.notebook.keyboard_manager.register_events(el);\n",
       "    }\n",
       "    else {\n",
       "        // location in version 2\n",
       "        IPython.keyboard_manager.register_events(el);\n",
       "    }\n",
       "\n",
       "}\n",
       "\n",
       "mpl.figure.prototype._key_event_extra = function(event, name) {\n",
       "    var manager = IPython.notebook.keyboard_manager;\n",
       "    if (!manager)\n",
       "        manager = IPython.keyboard_manager;\n",
       "\n",
       "    // Check for shift+enter\n",
       "    if (event.shiftKey && event.which == 13) {\n",
       "        this.canvas_div.blur();\n",
       "        event.shiftKey = false;\n",
       "        // Send a \"J\" for go to next cell\n",
       "        event.which = 74;\n",
       "        event.keyCode = 74;\n",
       "        manager.command_mode();\n",
       "        manager.handle_keydown(event);\n",
       "    }\n",
       "}\n",
       "\n",
       "mpl.figure.prototype.handle_save = function(fig, msg) {\n",
       "    fig.ondownload(fig, null);\n",
       "}\n",
       "\n",
       "\n",
       "mpl.find_output_cell = function(html_output) {\n",
       "    // Return the cell and output element which can be found *uniquely* in the notebook.\n",
       "    // Note - this is a bit hacky, but it is done because the \"notebook_saving.Notebook\"\n",
       "    // IPython event is triggered only after the cells have been serialised, which for\n",
       "    // our purposes (turning an active figure into a static one), is too late.\n",
       "    var cells = IPython.notebook.get_cells();\n",
       "    var ncells = cells.length;\n",
       "    for (var i=0; i<ncells; i++) {\n",
       "        var cell = cells[i];\n",
       "        if (cell.cell_type === 'code'){\n",
       "            for (var j=0; j<cell.output_area.outputs.length; j++) {\n",
       "                var data = cell.output_area.outputs[j];\n",
       "                if (data.data) {\n",
       "                    // IPython >= 3 moved mimebundle to data attribute of output\n",
       "                    data = data.data;\n",
       "                }\n",
       "                if (data['text/html'] == html_output) {\n",
       "                    return [cell, data, j];\n",
       "                }\n",
       "            }\n",
       "        }\n",
       "    }\n",
       "}\n",
       "\n",
       "// Register the function which deals with the matplotlib target/channel.\n",
       "// The kernel may be null if the page has been refreshed.\n",
       "if (IPython.notebook.kernel != null) {\n",
       "    IPython.notebook.kernel.comm_manager.register_target('matplotlib', mpl.mpl_figure_comm);\n",
       "}\n"
      ],
      "text/plain": [
       "<IPython.core.display.Javascript object>"
      ]
     },
     "metadata": {},
     "output_type": "display_data"
    },
    {
     "data": {
      "text/html": [
       "<img src=\"data:image/png;base64,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\" width=\"921\">"
      ],
      "text/plain": [
       "<IPython.core.display.HTML object>"
      ]
     },
     "metadata": {},
     "output_type": "display_data"
    }
   ],
   "source": [
    "sns.set_style('darkgrid')\n",
    "ax = count_incidents.plot(x='Date',y='count_incidents', legend=False)\n",
    "ax2 = ax.twinx()\n",
    "count_incidents.plot(x='Date',y='Total', legend=False, color='r', ax=ax2)\n",
    "date_form = DateFormatter(\"%m-%d\")\n",
    "ax.xaxis.set_major_formatter(date_form)\n",
    "ax.xaxis.set_major_locator(mdates.WeekdayLocator(interval=1))\n",
    "ax.figure.legend()\n",
    "plt.show()"
   ]
  },
  {
   "cell_type": "code",
   "execution_count": 7,
   "metadata": {},
   "outputs": [
    {
     "data": {
      "text/html": [
       "<div>\n",
       "<style scoped>\n",
       "    .dataframe tbody tr th:only-of-type {\n",
       "        vertical-align: middle;\n",
       "    }\n",
       "\n",
       "    .dataframe tbody tr th {\n",
       "        vertical-align: top;\n",
       "    }\n",
       "\n",
       "    .dataframe thead th {\n",
       "        text-align: right;\n",
       "    }\n",
       "</style>\n",
       "<table border=\"1\" class=\"dataframe\">\n",
       "  <thead>\n",
       "    <tr style=\"text-align: right;\">\n",
       "      <th></th>\n",
       "      <th>Date</th>\n",
       "      <th>count_incidents</th>\n",
       "      <th>Total</th>\n",
       "    </tr>\n",
       "  </thead>\n",
       "  <tbody>\n",
       "    <tr>\n",
       "      <th>72</th>\n",
       "      <td>2020-03-13</td>\n",
       "      <td>457</td>\n",
       "      <td>2.0</td>\n",
       "    </tr>\n",
       "    <tr>\n",
       "      <th>73</th>\n",
       "      <td>2020-03-14</td>\n",
       "      <td>421</td>\n",
       "      <td>8.0</td>\n",
       "    </tr>\n",
       "    <tr>\n",
       "      <th>74</th>\n",
       "      <td>2020-03-15</td>\n",
       "      <td>389</td>\n",
       "      <td>39.0</td>\n",
       "    </tr>\n",
       "    <tr>\n",
       "      <th>75</th>\n",
       "      <td>2020-03-16</td>\n",
       "      <td>369</td>\n",
       "      <td>55.0</td>\n",
       "    </tr>\n",
       "    <tr>\n",
       "      <th>76</th>\n",
       "      <td>2020-03-17</td>\n",
       "      <td>411</td>\n",
       "      <td>60.0</td>\n",
       "    </tr>\n",
       "    <tr>\n",
       "      <th>77</th>\n",
       "      <td>2020-03-18</td>\n",
       "      <td>389</td>\n",
       "      <td>80.0</td>\n",
       "    </tr>\n",
       "    <tr>\n",
       "      <th>78</th>\n",
       "      <td>2020-03-19</td>\n",
       "      <td>410</td>\n",
       "      <td>105.0</td>\n",
       "    </tr>\n",
       "    <tr>\n",
       "      <th>79</th>\n",
       "      <td>2020-03-20</td>\n",
       "      <td>383</td>\n",
       "      <td>131.0</td>\n",
       "    </tr>\n",
       "    <tr>\n",
       "      <th>80</th>\n",
       "      <td>2020-03-21</td>\n",
       "      <td>362</td>\n",
       "      <td>159.0</td>\n",
       "    </tr>\n",
       "    <tr>\n",
       "      <th>81</th>\n",
       "      <td>2020-03-22</td>\n",
       "      <td>378</td>\n",
       "      <td>205.0</td>\n",
       "    </tr>\n",
       "    <tr>\n",
       "      <th>82</th>\n",
       "      <td>2020-03-23</td>\n",
       "      <td>394</td>\n",
       "      <td>230.0</td>\n",
       "    </tr>\n",
       "    <tr>\n",
       "      <th>83</th>\n",
       "      <td>2020-03-24</td>\n",
       "      <td>405</td>\n",
       "      <td>242.0</td>\n",
       "    </tr>\n",
       "    <tr>\n",
       "      <th>84</th>\n",
       "      <td>2020-03-25</td>\n",
       "      <td>363</td>\n",
       "      <td>297.0</td>\n",
       "    </tr>\n",
       "    <tr>\n",
       "      <th>85</th>\n",
       "      <td>2020-03-26</td>\n",
       "      <td>374</td>\n",
       "      <td>341.0</td>\n",
       "    </tr>\n",
       "    <tr>\n",
       "      <th>86</th>\n",
       "      <td>2020-03-27</td>\n",
       "      <td>389</td>\n",
       "      <td>417.0</td>\n",
       "    </tr>\n",
       "    <tr>\n",
       "      <th>87</th>\n",
       "      <td>2020-03-28</td>\n",
       "      <td>361</td>\n",
       "      <td>519.0</td>\n",
       "    </tr>\n",
       "    <tr>\n",
       "      <th>88</th>\n",
       "      <td>2020-03-29</td>\n",
       "      <td>358</td>\n",
       "      <td>603.0</td>\n",
       "    </tr>\n",
       "    <tr>\n",
       "      <th>89</th>\n",
       "      <td>2020-03-30</td>\n",
       "      <td>369</td>\n",
       "      <td>734.0</td>\n",
       "    </tr>\n",
       "    <tr>\n",
       "      <th>90</th>\n",
       "      <td>2020-03-31</td>\n",
       "      <td>364</td>\n",
       "      <td>849.0</td>\n",
       "    </tr>\n",
       "    <tr>\n",
       "      <th>91</th>\n",
       "      <td>2020-04-01</td>\n",
       "      <td>355</td>\n",
       "      <td>966.0</td>\n",
       "    </tr>\n",
       "  </tbody>\n",
       "</table>\n",
       "</div>"
      ],
      "text/plain": [
       "          Date  count_incidents  Total\n",
       "72  2020-03-13              457    2.0\n",
       "73  2020-03-14              421    8.0\n",
       "74  2020-03-15              389   39.0\n",
       "75  2020-03-16              369   55.0\n",
       "76  2020-03-17              411   60.0\n",
       "77  2020-03-18              389   80.0\n",
       "78  2020-03-19              410  105.0\n",
       "79  2020-03-20              383  131.0\n",
       "80  2020-03-21              362  159.0\n",
       "81  2020-03-22              378  205.0\n",
       "82  2020-03-23              394  230.0\n",
       "83  2020-03-24              405  242.0\n",
       "84  2020-03-25              363  297.0\n",
       "85  2020-03-26              374  341.0\n",
       "86  2020-03-27              389  417.0\n",
       "87  2020-03-28              361  519.0\n",
       "88  2020-03-29              358  603.0\n",
       "89  2020-03-30              369  734.0\n",
       "90  2020-03-31              364  849.0\n",
       "91  2020-04-01              355  966.0"
      ]
     },
     "execution_count": 7,
     "metadata": {},
     "output_type": "execute_result"
    }
   ],
   "source": [
    "scattercount_incidents = count_incidents.loc[72:]\n",
    "scattercount_incidents"
   ]
  },
  {
   "cell_type": "code",
   "execution_count": 16,
   "metadata": {},
   "outputs": [
    {
     "data": {
      "application/vnd.plotly.v1+json": {
       "config": {
        "plotlyServerURL": "https://plot.ly"
       },
       "data": [
        {
         "hoverlabel": {
          "namelength": 0
         },
         "hovertemplate": "Total=%{x}<br>count_incidents=%{y}",
         "legendgroup": "",
         "marker": {
          "color": "#636efa",
          "symbol": "circle"
         },
         "mode": "markers",
         "name": "",
         "showlegend": false,
         "type": "scatter",
         "x": [
          2,
          8,
          39,
          55,
          60,
          80,
          105,
          131,
          159,
          205,
          230,
          242,
          297,
          341,
          417,
          519,
          603,
          734,
          849,
          966
         ],
         "xaxis": "x",
         "y": [
          457,
          421,
          389,
          369,
          411,
          389,
          410,
          383,
          362,
          378,
          394,
          405,
          363,
          374,
          389,
          361,
          358,
          369,
          364,
          355
         ],
         "yaxis": "y"
        },
        {
         "hoverlabel": {
          "namelength": 0
         },
         "hovertemplate": "<b>OLS trendline</b><br>count_incidents = -0.0565129 * Total + 402.123<br>R<sup>2</sup>=0.403876<br><br>Total=%{x}<br>count_incidents=%{y} <b>(trend)</b>",
         "legendgroup": "",
         "marker": {
          "color": "#636efa",
          "symbol": "circle"
         },
         "mode": "lines",
         "name": "",
         "showlegend": false,
         "type": "scatter",
         "x": [
          2,
          8,
          39,
          55,
          60,
          80,
          105,
          131,
          159,
          205,
          230,
          242,
          297,
          341,
          417,
          519,
          603,
          734,
          849,
          966
         ],
         "xaxis": "x",
         "y": [
          402.0095270778692,
          401.6704495621504,
          399.9185490642699,
          399.0143423556864,
          398.73177775925404,
          397.6015193735247,
          396.188696391363,
          394.71936048991483,
          393.13699874989373,
          390.53740446271615,
          389.12458148055447,
          388.44642644911687,
          385.3382158883611,
          382.8516474397565,
          378.5566655739849,
          372.7923478067652,
          368.0452625867018,
          360.6420701601745,
          354.1430844422307,
          347.5310728857139
         ],
         "yaxis": "y"
        }
       ],
       "layout": {
        "legend": {
         "tracegroupgap": 0
        },
        "margin": {
         "t": 60
        },
        "template": {
         "data": {
          "bar": [
           {
            "error_x": {
             "color": "#2a3f5f"
            },
            "error_y": {
             "color": "#2a3f5f"
            },
            "marker": {
             "line": {
              "color": "#E5ECF6",
              "width": 0.5
             }
            },
            "type": "bar"
           }
          ],
          "barpolar": [
           {
            "marker": {
             "line": {
              "color": "#E5ECF6",
              "width": 0.5
             }
            },
            "type": "barpolar"
           }
          ],
          "carpet": [
           {
            "aaxis": {
             "endlinecolor": "#2a3f5f",
             "gridcolor": "white",
             "linecolor": "white",
             "minorgridcolor": "white",
             "startlinecolor": "#2a3f5f"
            },
            "baxis": {
             "endlinecolor": "#2a3f5f",
             "gridcolor": "white",
             "linecolor": "white",
             "minorgridcolor": "white",
             "startlinecolor": "#2a3f5f"
            },
            "type": "carpet"
           }
          ],
          "choropleth": [
           {
            "colorbar": {
             "outlinewidth": 0,
             "ticks": ""
            },
            "type": "choropleth"
           }
          ],
          "contour": [
           {
            "colorbar": {
             "outlinewidth": 0,
             "ticks": ""
            },
            "colorscale": [
             [
              0,
              "#0d0887"
             ],
             [
              0.1111111111111111,
              "#46039f"
             ],
             [
              0.2222222222222222,
              "#7201a8"
             ],
             [
              0.3333333333333333,
              "#9c179e"
             ],
             [
              0.4444444444444444,
              "#bd3786"
             ],
             [
              0.5555555555555556,
              "#d8576b"
             ],
             [
              0.6666666666666666,
              "#ed7953"
             ],
             [
              0.7777777777777778,
              "#fb9f3a"
             ],
             [
              0.8888888888888888,
              "#fdca26"
             ],
             [
              1,
              "#f0f921"
             ]
            ],
            "type": "contour"
           }
          ],
          "contourcarpet": [
           {
            "colorbar": {
             "outlinewidth": 0,
             "ticks": ""
            },
            "type": "contourcarpet"
           }
          ],
          "heatmap": [
           {
            "colorbar": {
             "outlinewidth": 0,
             "ticks": ""
            },
            "colorscale": [
             [
              0,
              "#0d0887"
             ],
             [
              0.1111111111111111,
              "#46039f"
             ],
             [
              0.2222222222222222,
              "#7201a8"
             ],
             [
              0.3333333333333333,
              "#9c179e"
             ],
             [
              0.4444444444444444,
              "#bd3786"
             ],
             [
              0.5555555555555556,
              "#d8576b"
             ],
             [
              0.6666666666666666,
              "#ed7953"
             ],
             [
              0.7777777777777778,
              "#fb9f3a"
             ],
             [
              0.8888888888888888,
              "#fdca26"
             ],
             [
              1,
              "#f0f921"
             ]
            ],
            "type": "heatmap"
           }
          ],
          "heatmapgl": [
           {
            "colorbar": {
             "outlinewidth": 0,
             "ticks": ""
            },
            "colorscale": [
             [
              0,
              "#0d0887"
             ],
             [
              0.1111111111111111,
              "#46039f"
             ],
             [
              0.2222222222222222,
              "#7201a8"
             ],
             [
              0.3333333333333333,
              "#9c179e"
             ],
             [
              0.4444444444444444,
              "#bd3786"
             ],
             [
              0.5555555555555556,
              "#d8576b"
             ],
             [
              0.6666666666666666,
              "#ed7953"
             ],
             [
              0.7777777777777778,
              "#fb9f3a"
             ],
             [
              0.8888888888888888,
              "#fdca26"
             ],
             [
              1,
              "#f0f921"
             ]
            ],
            "type": "heatmapgl"
           }
          ],
          "histogram": [
           {
            "marker": {
             "colorbar": {
              "outlinewidth": 0,
              "ticks": ""
             }
            },
            "type": "histogram"
           }
          ],
          "histogram2d": [
           {
            "colorbar": {
             "outlinewidth": 0,
             "ticks": ""
            },
            "colorscale": [
             [
              0,
              "#0d0887"
             ],
             [
              0.1111111111111111,
              "#46039f"
             ],
             [
              0.2222222222222222,
              "#7201a8"
             ],
             [
              0.3333333333333333,
              "#9c179e"
             ],
             [
              0.4444444444444444,
              "#bd3786"
             ],
             [
              0.5555555555555556,
              "#d8576b"
             ],
             [
              0.6666666666666666,
              "#ed7953"
             ],
             [
              0.7777777777777778,
              "#fb9f3a"
             ],
             [
              0.8888888888888888,
              "#fdca26"
             ],
             [
              1,
              "#f0f921"
             ]
            ],
            "type": "histogram2d"
           }
          ],
          "histogram2dcontour": [
           {
            "colorbar": {
             "outlinewidth": 0,
             "ticks": ""
            },
            "colorscale": [
             [
              0,
              "#0d0887"
             ],
             [
              0.1111111111111111,
              "#46039f"
             ],
             [
              0.2222222222222222,
              "#7201a8"
             ],
             [
              0.3333333333333333,
              "#9c179e"
             ],
             [
              0.4444444444444444,
              "#bd3786"
             ],
             [
              0.5555555555555556,
              "#d8576b"
             ],
             [
              0.6666666666666666,
              "#ed7953"
             ],
             [
              0.7777777777777778,
              "#fb9f3a"
             ],
             [
              0.8888888888888888,
              "#fdca26"
             ],
             [
              1,
              "#f0f921"
             ]
            ],
            "type": "histogram2dcontour"
           }
          ],
          "mesh3d": [
           {
            "colorbar": {
             "outlinewidth": 0,
             "ticks": ""
            },
            "type": "mesh3d"
           }
          ],
          "parcoords": [
           {
            "line": {
             "colorbar": {
              "outlinewidth": 0,
              "ticks": ""
             }
            },
            "type": "parcoords"
           }
          ],
          "pie": [
           {
            "automargin": true,
            "type": "pie"
           }
          ],
          "scatter": [
           {
            "marker": {
             "colorbar": {
              "outlinewidth": 0,
              "ticks": ""
             }
            },
            "type": "scatter"
           }
          ],
          "scatter3d": [
           {
            "line": {
             "colorbar": {
              "outlinewidth": 0,
              "ticks": ""
             }
            },
            "marker": {
             "colorbar": {
              "outlinewidth": 0,
              "ticks": ""
             }
            },
            "type": "scatter3d"
           }
          ],
          "scattercarpet": [
           {
            "marker": {
             "colorbar": {
              "outlinewidth": 0,
              "ticks": ""
             }
            },
            "type": "scattercarpet"
           }
          ],
          "scattergeo": [
           {
            "marker": {
             "colorbar": {
              "outlinewidth": 0,
              "ticks": ""
             }
            },
            "type": "scattergeo"
           }
          ],
          "scattergl": [
           {
            "marker": {
             "colorbar": {
              "outlinewidth": 0,
              "ticks": ""
             }
            },
            "type": "scattergl"
           }
          ],
          "scattermapbox": [
           {
            "marker": {
             "colorbar": {
              "outlinewidth": 0,
              "ticks": ""
             }
            },
            "type": "scattermapbox"
           }
          ],
          "scatterpolar": [
           {
            "marker": {
             "colorbar": {
              "outlinewidth": 0,
              "ticks": ""
             }
            },
            "type": "scatterpolar"
           }
          ],
          "scatterpolargl": [
           {
            "marker": {
             "colorbar": {
              "outlinewidth": 0,
              "ticks": ""
             }
            },
            "type": "scatterpolargl"
           }
          ],
          "scatterternary": [
           {
            "marker": {
             "colorbar": {
              "outlinewidth": 0,
              "ticks": ""
             }
            },
            "type": "scatterternary"
           }
          ],
          "surface": [
           {
            "colorbar": {
             "outlinewidth": 0,
             "ticks": ""
            },
            "colorscale": [
             [
              0,
              "#0d0887"
             ],
             [
              0.1111111111111111,
              "#46039f"
             ],
             [
              0.2222222222222222,
              "#7201a8"
             ],
             [
              0.3333333333333333,
              "#9c179e"
             ],
             [
              0.4444444444444444,
              "#bd3786"
             ],
             [
              0.5555555555555556,
              "#d8576b"
             ],
             [
              0.6666666666666666,
              "#ed7953"
             ],
             [
              0.7777777777777778,
              "#fb9f3a"
             ],
             [
              0.8888888888888888,
              "#fdca26"
             ],
             [
              1,
              "#f0f921"
             ]
            ],
            "type": "surface"
           }
          ],
          "table": [
           {
            "cells": {
             "fill": {
              "color": "#EBF0F8"
             },
             "line": {
              "color": "white"
             }
            },
            "header": {
             "fill": {
              "color": "#C8D4E3"
             },
             "line": {
              "color": "white"
             }
            },
            "type": "table"
           }
          ]
         },
         "layout": {
          "annotationdefaults": {
           "arrowcolor": "#2a3f5f",
           "arrowhead": 0,
           "arrowwidth": 1
          },
          "coloraxis": {
           "colorbar": {
            "outlinewidth": 0,
            "ticks": ""
           }
          },
          "colorscale": {
           "diverging": [
            [
             0,
             "#8e0152"
            ],
            [
             0.1,
             "#c51b7d"
            ],
            [
             0.2,
             "#de77ae"
            ],
            [
             0.3,
             "#f1b6da"
            ],
            [
             0.4,
             "#fde0ef"
            ],
            [
             0.5,
             "#f7f7f7"
            ],
            [
             0.6,
             "#e6f5d0"
            ],
            [
             0.7,
             "#b8e186"
            ],
            [
             0.8,
             "#7fbc41"
            ],
            [
             0.9,
             "#4d9221"
            ],
            [
             1,
             "#276419"
            ]
           ],
           "sequential": [
            [
             0,
             "#0d0887"
            ],
            [
             0.1111111111111111,
             "#46039f"
            ],
            [
             0.2222222222222222,
             "#7201a8"
            ],
            [
             0.3333333333333333,
             "#9c179e"
            ],
            [
             0.4444444444444444,
             "#bd3786"
            ],
            [
             0.5555555555555556,
             "#d8576b"
            ],
            [
             0.6666666666666666,
             "#ed7953"
            ],
            [
             0.7777777777777778,
             "#fb9f3a"
            ],
            [
             0.8888888888888888,
             "#fdca26"
            ],
            [
             1,
             "#f0f921"
            ]
           ],
           "sequentialminus": [
            [
             0,
             "#0d0887"
            ],
            [
             0.1111111111111111,
             "#46039f"
            ],
            [
             0.2222222222222222,
             "#7201a8"
            ],
            [
             0.3333333333333333,
             "#9c179e"
            ],
            [
             0.4444444444444444,
             "#bd3786"
            ],
            [
             0.5555555555555556,
             "#d8576b"
            ],
            [
             0.6666666666666666,
             "#ed7953"
            ],
            [
             0.7777777777777778,
             "#fb9f3a"
            ],
            [
             0.8888888888888888,
             "#fdca26"
            ],
            [
             1,
             "#f0f921"
            ]
           ]
          },
          "colorway": [
           "#636efa",
           "#EF553B",
           "#00cc96",
           "#ab63fa",
           "#FFA15A",
           "#19d3f3",
           "#FF6692",
           "#B6E880",
           "#FF97FF",
           "#FECB52"
          ],
          "font": {
           "color": "#2a3f5f"
          },
          "geo": {
           "bgcolor": "white",
           "lakecolor": "white",
           "landcolor": "#E5ECF6",
           "showlakes": true,
           "showland": true,
           "subunitcolor": "white"
          },
          "hoverlabel": {
           "align": "left"
          },
          "hovermode": "closest",
          "mapbox": {
           "style": "light"
          },
          "paper_bgcolor": "white",
          "plot_bgcolor": "#E5ECF6",
          "polar": {
           "angularaxis": {
            "gridcolor": "white",
            "linecolor": "white",
            "ticks": ""
           },
           "bgcolor": "#E5ECF6",
           "radialaxis": {
            "gridcolor": "white",
            "linecolor": "white",
            "ticks": ""
           }
          },
          "scene": {
           "xaxis": {
            "backgroundcolor": "#E5ECF6",
            "gridcolor": "white",
            "gridwidth": 2,
            "linecolor": "white",
            "showbackground": true,
            "ticks": "",
            "zerolinecolor": "white"
           },
           "yaxis": {
            "backgroundcolor": "#E5ECF6",
            "gridcolor": "white",
            "gridwidth": 2,
            "linecolor": "white",
            "showbackground": true,
            "ticks": "",
            "zerolinecolor": "white"
           },
           "zaxis": {
            "backgroundcolor": "#E5ECF6",
            "gridcolor": "white",
            "gridwidth": 2,
            "linecolor": "white",
            "showbackground": true,
            "ticks": "",
            "zerolinecolor": "white"
           }
          },
          "shapedefaults": {
           "line": {
            "color": "#2a3f5f"
           }
          },
          "ternary": {
           "aaxis": {
            "gridcolor": "white",
            "linecolor": "white",
            "ticks": ""
           },
           "baxis": {
            "gridcolor": "white",
            "linecolor": "white",
            "ticks": ""
           },
           "bgcolor": "#E5ECF6",
           "caxis": {
            "gridcolor": "white",
            "linecolor": "white",
            "ticks": ""
           }
          },
          "title": {
           "x": 0.05
          },
          "xaxis": {
           "automargin": true,
           "gridcolor": "white",
           "linecolor": "white",
           "ticks": "",
           "title": {
            "standoff": 15
           },
           "zerolinecolor": "white",
           "zerolinewidth": 2
          },
          "yaxis": {
           "automargin": true,
           "gridcolor": "white",
           "linecolor": "white",
           "ticks": "",
           "title": {
            "standoff": 15
           },
           "zerolinecolor": "white",
           "zerolinewidth": 2
          }
         }
        },
        "xaxis": {
         "anchor": "y",
         "domain": [
          0,
          1
         ],
         "title": {
          "text": "Total"
         }
        },
        "yaxis": {
         "anchor": "x",
         "domain": [
          0,
          1
         ],
         "title": {
          "text": "count_incidents"
         }
        }
       }
      },
      "text/html": [
       "<div>\n",
       "        \n",
       "        \n",
       "            <div id=\"a15a609b-c895-4f7f-b141-d86a2a85aabd\" class=\"plotly-graph-div\" style=\"height:525px; width:100%;\"></div>\n",
       "            <script type=\"text/javascript\">\n",
       "                require([\"plotly\"], function(Plotly) {\n",
       "                    window.PLOTLYENV=window.PLOTLYENV || {};\n",
       "                    \n",
       "                if (document.getElementById(\"a15a609b-c895-4f7f-b141-d86a2a85aabd\")) {\n",
       "                    Plotly.newPlot(\n",
       "                        'a15a609b-c895-4f7f-b141-d86a2a85aabd',\n",
       "                        [{\"hoverlabel\": {\"namelength\": 0}, \"hovertemplate\": \"Total=%{x}<br>count_incidents=%{y}\", \"legendgroup\": \"\", \"marker\": {\"color\": \"#636efa\", \"symbol\": \"circle\"}, \"mode\": \"markers\", \"name\": \"\", \"showlegend\": false, \"type\": \"scatter\", \"x\": [2.0, 8.0, 39.0, 55.0, 60.0, 80.0, 105.0, 131.0, 159.0, 205.0, 230.0, 242.0, 297.0, 341.0, 417.0, 519.0, 603.0, 734.0, 849.0, 966.0], \"xaxis\": \"x\", \"y\": [457, 421, 389, 369, 411, 389, 410, 383, 362, 378, 394, 405, 363, 374, 389, 361, 358, 369, 364, 355], \"yaxis\": \"y\"}, {\"hoverlabel\": {\"namelength\": 0}, \"hovertemplate\": \"<b>OLS trendline</b><br>count_incidents = -0.0565129 * Total + 402.123<br>R<sup>2</sup>=0.403876<br><br>Total=%{x}<br>count_incidents=%{y} <b>(trend)</b>\", \"legendgroup\": \"\", \"marker\": {\"color\": \"#636efa\", \"symbol\": \"circle\"}, \"mode\": \"lines\", \"name\": \"\", \"showlegend\": false, \"type\": \"scatter\", \"x\": [2.0, 8.0, 39.0, 55.0, 60.0, 80.0, 105.0, 131.0, 159.0, 205.0, 230.0, 242.0, 297.0, 341.0, 417.0, 519.0, 603.0, 734.0, 849.0, 966.0], \"xaxis\": \"x\", \"y\": [402.0095270778692, 401.6704495621504, 399.9185490642699, 399.0143423556864, 398.73177775925404, 397.6015193735247, 396.188696391363, 394.71936048991483, 393.13699874989373, 390.53740446271615, 389.12458148055447, 388.44642644911687, 385.3382158883611, 382.8516474397565, 378.5566655739849, 372.7923478067652, 368.0452625867018, 360.6420701601745, 354.1430844422307, 347.5310728857139], \"yaxis\": \"y\"}],\n",
       "                        {\"legend\": {\"tracegroupgap\": 0}, \"margin\": {\"t\": 60}, \"template\": {\"data\": {\"bar\": [{\"error_x\": {\"color\": \"#2a3f5f\"}, \"error_y\": {\"color\": \"#2a3f5f\"}, \"marker\": {\"line\": {\"color\": \"#E5ECF6\", \"width\": 0.5}}, \"type\": \"bar\"}], \"barpolar\": [{\"marker\": {\"line\": {\"color\": \"#E5ECF6\", \"width\": 0.5}}, \"type\": \"barpolar\"}], \"carpet\": [{\"aaxis\": {\"endlinecolor\": \"#2a3f5f\", \"gridcolor\": \"white\", \"linecolor\": \"white\", \"minorgridcolor\": \"white\", \"startlinecolor\": \"#2a3f5f\"}, \"baxis\": {\"endlinecolor\": \"#2a3f5f\", \"gridcolor\": \"white\", \"linecolor\": \"white\", \"minorgridcolor\": \"white\", \"startlinecolor\": \"#2a3f5f\"}, \"type\": \"carpet\"}], \"choropleth\": [{\"colorbar\": {\"outlinewidth\": 0, \"ticks\": \"\"}, \"type\": \"choropleth\"}], \"contour\": [{\"colorbar\": {\"outlinewidth\": 0, \"ticks\": \"\"}, \"colorscale\": [[0.0, \"#0d0887\"], [0.1111111111111111, \"#46039f\"], [0.2222222222222222, \"#7201a8\"], [0.3333333333333333, \"#9c179e\"], [0.4444444444444444, \"#bd3786\"], [0.5555555555555556, \"#d8576b\"], [0.6666666666666666, \"#ed7953\"], [0.7777777777777778, \"#fb9f3a\"], [0.8888888888888888, \"#fdca26\"], [1.0, \"#f0f921\"]], \"type\": \"contour\"}], \"contourcarpet\": [{\"colorbar\": {\"outlinewidth\": 0, \"ticks\": \"\"}, \"type\": \"contourcarpet\"}], \"heatmap\": [{\"colorbar\": {\"outlinewidth\": 0, \"ticks\": \"\"}, \"colorscale\": [[0.0, \"#0d0887\"], [0.1111111111111111, \"#46039f\"], [0.2222222222222222, \"#7201a8\"], [0.3333333333333333, \"#9c179e\"], [0.4444444444444444, \"#bd3786\"], [0.5555555555555556, \"#d8576b\"], [0.6666666666666666, \"#ed7953\"], [0.7777777777777778, \"#fb9f3a\"], [0.8888888888888888, \"#fdca26\"], [1.0, \"#f0f921\"]], \"type\": \"heatmap\"}], \"heatmapgl\": [{\"colorbar\": {\"outlinewidth\": 0, \"ticks\": \"\"}, \"colorscale\": [[0.0, \"#0d0887\"], [0.1111111111111111, \"#46039f\"], [0.2222222222222222, \"#7201a8\"], [0.3333333333333333, \"#9c179e\"], [0.4444444444444444, \"#bd3786\"], [0.5555555555555556, \"#d8576b\"], [0.6666666666666666, \"#ed7953\"], [0.7777777777777778, \"#fb9f3a\"], [0.8888888888888888, \"#fdca26\"], [1.0, \"#f0f921\"]], \"type\": \"heatmapgl\"}], \"histogram\": [{\"marker\": {\"colorbar\": {\"outlinewidth\": 0, \"ticks\": \"\"}}, \"type\": \"histogram\"}], \"histogram2d\": [{\"colorbar\": {\"outlinewidth\": 0, \"ticks\": \"\"}, \"colorscale\": [[0.0, \"#0d0887\"], [0.1111111111111111, \"#46039f\"], [0.2222222222222222, \"#7201a8\"], [0.3333333333333333, \"#9c179e\"], [0.4444444444444444, \"#bd3786\"], [0.5555555555555556, \"#d8576b\"], [0.6666666666666666, \"#ed7953\"], [0.7777777777777778, \"#fb9f3a\"], [0.8888888888888888, \"#fdca26\"], [1.0, \"#f0f921\"]], \"type\": \"histogram2d\"}], \"histogram2dcontour\": [{\"colorbar\": {\"outlinewidth\": 0, \"ticks\": \"\"}, \"colorscale\": [[0.0, \"#0d0887\"], [0.1111111111111111, \"#46039f\"], [0.2222222222222222, \"#7201a8\"], [0.3333333333333333, \"#9c179e\"], [0.4444444444444444, \"#bd3786\"], [0.5555555555555556, \"#d8576b\"], [0.6666666666666666, \"#ed7953\"], [0.7777777777777778, \"#fb9f3a\"], [0.8888888888888888, \"#fdca26\"], [1.0, \"#f0f921\"]], \"type\": \"histogram2dcontour\"}], \"mesh3d\": [{\"colorbar\": {\"outlinewidth\": 0, \"ticks\": \"\"}, \"type\": \"mesh3d\"}], \"parcoords\": [{\"line\": {\"colorbar\": {\"outlinewidth\": 0, \"ticks\": \"\"}}, \"type\": \"parcoords\"}], \"pie\": [{\"automargin\": true, \"type\": \"pie\"}], \"scatter\": [{\"marker\": {\"colorbar\": {\"outlinewidth\": 0, \"ticks\": \"\"}}, \"type\": \"scatter\"}], \"scatter3d\": [{\"line\": {\"colorbar\": {\"outlinewidth\": 0, \"ticks\": \"\"}}, \"marker\": {\"colorbar\": {\"outlinewidth\": 0, \"ticks\": \"\"}}, \"type\": \"scatter3d\"}], \"scattercarpet\": [{\"marker\": {\"colorbar\": {\"outlinewidth\": 0, \"ticks\": \"\"}}, \"type\": \"scattercarpet\"}], \"scattergeo\": [{\"marker\": {\"colorbar\": {\"outlinewidth\": 0, \"ticks\": \"\"}}, \"type\": \"scattergeo\"}], \"scattergl\": [{\"marker\": {\"colorbar\": {\"outlinewidth\": 0, \"ticks\": \"\"}}, \"type\": \"scattergl\"}], \"scattermapbox\": [{\"marker\": {\"colorbar\": {\"outlinewidth\": 0, \"ticks\": \"\"}}, \"type\": \"scattermapbox\"}], \"scatterpolar\": [{\"marker\": {\"colorbar\": {\"outlinewidth\": 0, \"ticks\": \"\"}}, \"type\": \"scatterpolar\"}], \"scatterpolargl\": [{\"marker\": {\"colorbar\": {\"outlinewidth\": 0, \"ticks\": \"\"}}, \"type\": \"scatterpolargl\"}], \"scatterternary\": [{\"marker\": {\"colorbar\": {\"outlinewidth\": 0, \"ticks\": \"\"}}, \"type\": \"scatterternary\"}], \"surface\": [{\"colorbar\": {\"outlinewidth\": 0, \"ticks\": \"\"}, \"colorscale\": [[0.0, \"#0d0887\"], [0.1111111111111111, \"#46039f\"], [0.2222222222222222, \"#7201a8\"], [0.3333333333333333, \"#9c179e\"], [0.4444444444444444, \"#bd3786\"], [0.5555555555555556, \"#d8576b\"], [0.6666666666666666, \"#ed7953\"], [0.7777777777777778, \"#fb9f3a\"], [0.8888888888888888, \"#fdca26\"], [1.0, \"#f0f921\"]], \"type\": \"surface\"}], \"table\": [{\"cells\": {\"fill\": {\"color\": \"#EBF0F8\"}, \"line\": {\"color\": \"white\"}}, \"header\": {\"fill\": {\"color\": \"#C8D4E3\"}, \"line\": {\"color\": \"white\"}}, \"type\": \"table\"}]}, \"layout\": {\"annotationdefaults\": {\"arrowcolor\": \"#2a3f5f\", \"arrowhead\": 0, \"arrowwidth\": 1}, \"coloraxis\": {\"colorbar\": {\"outlinewidth\": 0, \"ticks\": \"\"}}, \"colorscale\": {\"diverging\": [[0, \"#8e0152\"], [0.1, \"#c51b7d\"], [0.2, \"#de77ae\"], [0.3, \"#f1b6da\"], [0.4, \"#fde0ef\"], [0.5, \"#f7f7f7\"], [0.6, \"#e6f5d0\"], [0.7, \"#b8e186\"], [0.8, \"#7fbc41\"], [0.9, \"#4d9221\"], [1, \"#276419\"]], \"sequential\": [[0.0, \"#0d0887\"], [0.1111111111111111, \"#46039f\"], [0.2222222222222222, \"#7201a8\"], [0.3333333333333333, \"#9c179e\"], [0.4444444444444444, \"#bd3786\"], [0.5555555555555556, \"#d8576b\"], [0.6666666666666666, \"#ed7953\"], [0.7777777777777778, \"#fb9f3a\"], [0.8888888888888888, \"#fdca26\"], [1.0, \"#f0f921\"]], \"sequentialminus\": [[0.0, \"#0d0887\"], [0.1111111111111111, \"#46039f\"], [0.2222222222222222, \"#7201a8\"], [0.3333333333333333, \"#9c179e\"], [0.4444444444444444, \"#bd3786\"], [0.5555555555555556, \"#d8576b\"], [0.6666666666666666, \"#ed7953\"], [0.7777777777777778, \"#fb9f3a\"], [0.8888888888888888, \"#fdca26\"], [1.0, \"#f0f921\"]]}, \"colorway\": [\"#636efa\", \"#EF553B\", \"#00cc96\", \"#ab63fa\", \"#FFA15A\", \"#19d3f3\", \"#FF6692\", \"#B6E880\", \"#FF97FF\", \"#FECB52\"], \"font\": {\"color\": \"#2a3f5f\"}, \"geo\": {\"bgcolor\": \"white\", \"lakecolor\": \"white\", \"landcolor\": \"#E5ECF6\", \"showlakes\": true, \"showland\": true, \"subunitcolor\": \"white\"}, \"hoverlabel\": {\"align\": \"left\"}, \"hovermode\": \"closest\", \"mapbox\": {\"style\": \"light\"}, \"paper_bgcolor\": \"white\", \"plot_bgcolor\": \"#E5ECF6\", \"polar\": {\"angularaxis\": {\"gridcolor\": \"white\", \"linecolor\": \"white\", \"ticks\": \"\"}, \"bgcolor\": \"#E5ECF6\", \"radialaxis\": {\"gridcolor\": \"white\", \"linecolor\": \"white\", \"ticks\": \"\"}}, \"scene\": {\"xaxis\": {\"backgroundcolor\": \"#E5ECF6\", \"gridcolor\": \"white\", \"gridwidth\": 2, \"linecolor\": \"white\", \"showbackground\": true, \"ticks\": \"\", \"zerolinecolor\": \"white\"}, \"yaxis\": {\"backgroundcolor\": \"#E5ECF6\", \"gridcolor\": \"white\", \"gridwidth\": 2, \"linecolor\": \"white\", \"showbackground\": true, \"ticks\": \"\", \"zerolinecolor\": \"white\"}, \"zaxis\": {\"backgroundcolor\": \"#E5ECF6\", \"gridcolor\": \"white\", \"gridwidth\": 2, \"linecolor\": \"white\", \"showbackground\": true, \"ticks\": \"\", \"zerolinecolor\": \"white\"}}, \"shapedefaults\": {\"line\": {\"color\": \"#2a3f5f\"}}, \"ternary\": {\"aaxis\": {\"gridcolor\": \"white\", \"linecolor\": \"white\", \"ticks\": \"\"}, \"baxis\": {\"gridcolor\": \"white\", \"linecolor\": \"white\", \"ticks\": \"\"}, \"bgcolor\": \"#E5ECF6\", \"caxis\": {\"gridcolor\": \"white\", \"linecolor\": \"white\", \"ticks\": \"\"}}, \"title\": {\"x\": 0.05}, \"xaxis\": {\"automargin\": true, \"gridcolor\": \"white\", \"linecolor\": \"white\", \"ticks\": \"\", \"title\": {\"standoff\": 15}, \"zerolinecolor\": \"white\", \"zerolinewidth\": 2}, \"yaxis\": {\"automargin\": true, \"gridcolor\": \"white\", \"linecolor\": \"white\", \"ticks\": \"\", \"title\": {\"standoff\": 15}, \"zerolinecolor\": \"white\", \"zerolinewidth\": 2}}}, \"xaxis\": {\"anchor\": \"y\", \"domain\": [0.0, 1.0], \"title\": {\"text\": \"Total\"}}, \"yaxis\": {\"anchor\": \"x\", \"domain\": [0.0, 1.0], \"title\": {\"text\": \"count_incidents\"}}},\n",
       "                        {\"responsive\": true}\n",
       "                    ).then(function(){\n",
       "                            \n",
       "var gd = document.getElementById('a15a609b-c895-4f7f-b141-d86a2a85aabd');\n",
       "var x = new MutationObserver(function (mutations, observer) {{\n",
       "        var display = window.getComputedStyle(gd).display;\n",
       "        if (!display || display === 'none') {{\n",
       "            console.log([gd, 'removed!']);\n",
       "            Plotly.purge(gd);\n",
       "            observer.disconnect();\n",
       "        }}\n",
       "}});\n",
       "\n",
       "// Listen for the removal of the full notebook cells\n",
       "var notebookContainer = gd.closest('#notebook-container');\n",
       "if (notebookContainer) {{\n",
       "    x.observe(notebookContainer, {childList: true});\n",
       "}}\n",
       "\n",
       "// Listen for the clearing of the current output cell\n",
       "var outputEl = gd.closest('.output');\n",
       "if (outputEl) {{\n",
       "    x.observe(outputEl, {childList: true});\n",
       "}}\n",
       "\n",
       "                        })\n",
       "                };\n",
       "                });\n",
       "            </script>\n",
       "        </div>"
      ]
     },
     "metadata": {},
     "output_type": "display_data"
    }
   ],
   "source": [
    "fig = px.scatter(scattercount_incidents, x=\"Total\", y=\"count_incidents\", trendline=\"ols\")\n",
    "fig.show()"
   ]
  },
  {
   "cell_type": "code",
   "execution_count": null,
   "metadata": {},
   "outputs": [],
   "source": []
  }
 ],
 "metadata": {
  "kernelspec": {
   "display_name": "Python 3",
   "language": "python",
   "name": "python3"
  },
  "language_info": {
   "codemirror_mode": {
    "name": "ipython",
    "version": 3
   },
   "file_extension": ".py",
   "mimetype": "text/x-python",
   "name": "python",
   "nbconvert_exporter": "python",
   "pygments_lexer": "ipython3",
   "version": "3.6.5"
  }
 },
 "nbformat": 4,
 "nbformat_minor": 2
}
